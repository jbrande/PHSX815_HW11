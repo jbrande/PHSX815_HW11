{
 "cells": [
  {
   "cell_type": "markdown",
   "metadata": {},
   "source": [
    "## PHSX 815 Neural Network with Keras tutorial\n",
    "### How can we predict the quality of wine based on its physical characteristics?\n",
    "We will download the `wine_quality` dataset from Tensorflow (the Keras backend) to train a neural network to predict wine quality."
   ]
  },
  {
   "cell_type": "code",
   "execution_count": 3,
   "metadata": {},
   "outputs": [
    {
     "name": "stdout",
     "output_type": "stream",
     "text": [
      "INFO:tensorflow:Enabling eager execution\n",
      "INFO:tensorflow:Enabling v2 tensorshape\n",
      "INFO:tensorflow:Enabling resource variables\n",
      "INFO:tensorflow:Enabling tensor equality\n",
      "INFO:tensorflow:Enabling control flow v2\n"
     ]
    }
   ],
   "source": [
    "import matplotlib.pyplot as plt\n",
    "import seaborn as sns\n",
    "import numpy as np\n",
    "from sklearn.preprocessing import OneHotEncoder, MinMaxScaler\n",
    "from sklearn.metrics import confusion_matrix\n",
    "from sklearn.model_selection import train_test_split\n",
    "import pandas as pd\n",
    "\n",
    "import tensorflow as tf\n",
    "from tensorflow.keras.models import Sequential, Model\n",
    "from tensorflow.keras.layers import *\n",
    "# from tensorflow.keras.optimizers import SGD, Adam\n",
    "# from tensorflow.keras.activations import relu\n",
    "import tensorflow_datasets as tfds\n",
    "from IPython.core.interactiveshell import InteractiveShell\n",
    "InteractiveShell.ast_node_interactivity = \"all\""
   ]
  },
  {
   "cell_type": "code",
   "execution_count": 214,
   "metadata": {},
   "outputs": [
    {
     "name": "stdout",
     "output_type": "stream",
     "text": [
      "Features and label for first entry\n",
      "{'alcohol': 9.0, 'chlorides': 0.054, 'citric acid': 0.34, 'density': 1.0008, 'fixed acidity': 7.6, 'free sulfur dioxide': 44.0, 'pH': 3.22, 'residual sugar': 18.35, 'sulphates': 0.550000011920929, 'total sulfur dioxide': 197.0, 'volatile acidity': 0.32} 5\n",
      "number of samples 6497\n",
      "possible wine quality ratings [5 6 4 8 7 3 9]\n"
     ]
    }
   ],
   "source": [
    "#if you want to load the data as tuples, you can use the as_supervised=True argument\n",
    "data_train = tfds.load('wine_quality',split='train',as_supervised=True)\n",
    "\n",
    "#looking at just one sample of our data\n",
    "pt = data_train.take(1)\n",
    "# type(pt)\n",
    "\n",
    "#can convert this TakeDataset object to a numpy array (can do this for the whole dataset too)\n",
    "print(\"Features and label for first entry\")\n",
    "for features, label in tfds.as_numpy(pt):\n",
    "    print(features,label)\n",
    "\n",
    "#we want to load dataset as a a dictionary of tf.Tensors (can't transform tuples to dataframe)\n",
    "data_train_white = tfds.load('wine_quality/white',split='train')\n",
    "data_train_red = tfds.load('wine_quality/red',split='train')\n",
    "\n",
    "#transform dictionary to dataframe - combining red and white wine\n",
    "df_white = tfds.as_dataframe(data_train_white)\n",
    "df_red = tfds.as_dataframe(data_train_red)\n",
    "df = pd.concat([df_white,df_red])\n",
    "\n",
    "print('number of samples',len(df['quality']))\n",
    "\n",
    "#what are our output possibilities?\n",
    "print('possible wine quality ratings',df['quality'].unique())"
   ]
  },
  {
   "cell_type": "code",
   "execution_count": 215,
   "metadata": {},
   "outputs": [
    {
     "name": "stdout",
     "output_type": "stream",
     "text": [
      "all good!\n"
     ]
    }
   ],
   "source": [
    "#do we have any missing data (empty or NaN entries in features or labels)?\n",
    "dataNans = df.isnull().values.any()\n",
    "if not dataNans:\n",
    "    print(\"all good!\")"
   ]
  },
  {
   "cell_type": "markdown",
   "metadata": {},
   "source": [
    "### Preprocessing our labels\n",
    "Although this may seem like a regression task for a neural network because we are predicting a number (wine quality), the labels are actually *categorical* not *continuous*. If you look at the labels, you see that they are integer values between 5 and 9. Because this is a classification problem, we need to one-hot encode our labels. This means taking our possible outcomes and turning them into arrays of a 1 and 0's. The index of the 1 in the array will tell us which class is which. So, for example, 5 becomes [1,0,0,0,0], 6 becomes [0,1,0,0,0] and so on. We can use a function from sklearn to do this automatically."
   ]
  },
  {
   "cell_type": "markdown",
   "metadata": {},
   "source": [
    "this dataset unfortunately only gives us training data - but we can set aside a portion for testing our network on. in practice, you don't want to test your network on data it has already seen (is it really a prediction if you use your model on data it was fitted to?) but, for educational purposes, we can ~randomly sample our data and call it ~iid.\n",
    "Here, I combine the red and white wine datasets for increased statistics. What happens if you train networks on these datasets separately? Or what happens if you use one dataset to train and one to test?"
   ]
  },
  {
   "cell_type": "code",
   "execution_count": 216,
   "metadata": {},
   "outputs": [
    {
     "data": {
      "text/plain": [
       "array([5, 6, 4, 8, 7, 3, 9])"
      ]
     },
     "execution_count": 216,
     "metadata": {},
     "output_type": "execute_result"
    },
    {
     "data": {
      "text/html": [
       "<div>\n",
       "<style scoped>\n",
       "    .dataframe tbody tr th:only-of-type {\n",
       "        vertical-align: middle;\n",
       "    }\n",
       "\n",
       "    .dataframe tbody tr th {\n",
       "        vertical-align: top;\n",
       "    }\n",
       "\n",
       "    .dataframe thead th {\n",
       "        text-align: right;\n",
       "    }\n",
       "</style>\n",
       "<table border=\"1\" class=\"dataframe\">\n",
       "  <thead>\n",
       "    <tr style=\"text-align: right;\">\n",
       "      <th></th>\n",
       "      <th>features/alcohol</th>\n",
       "      <th>features/chlorides</th>\n",
       "      <th>features/citric acid</th>\n",
       "      <th>features/density</th>\n",
       "      <th>features/fixed acidity</th>\n",
       "      <th>features/free sulfur dioxide</th>\n",
       "      <th>features/pH</th>\n",
       "      <th>features/residual sugar</th>\n",
       "      <th>features/sulphates</th>\n",
       "      <th>features/total sulfur dioxide</th>\n",
       "      <th>features/volatile acidity</th>\n",
       "    </tr>\n",
       "  </thead>\n",
       "  <tbody>\n",
       "    <tr>\n",
       "      <th>4454</th>\n",
       "      <td>10.5</td>\n",
       "      <td>0.041</td>\n",
       "      <td>0.32</td>\n",
       "      <td>0.99173</td>\n",
       "      <td>6.7</td>\n",
       "      <td>26.0</td>\n",
       "      <td>2.90</td>\n",
       "      <td>3.7</td>\n",
       "      <td>0.57</td>\n",
       "      <td>76.0</td>\n",
       "      <td>0.190</td>\n",
       "    </tr>\n",
       "    <tr>\n",
       "      <th>1489</th>\n",
       "      <td>10.8</td>\n",
       "      <td>0.077</td>\n",
       "      <td>0.02</td>\n",
       "      <td>0.99557</td>\n",
       "      <td>7.5</td>\n",
       "      <td>11.0</td>\n",
       "      <td>3.36</td>\n",
       "      <td>2.6</td>\n",
       "      <td>0.62</td>\n",
       "      <td>35.0</td>\n",
       "      <td>0.570</td>\n",
       "    </tr>\n",
       "    <tr>\n",
       "      <th>364</th>\n",
       "      <td>10.6</td>\n",
       "      <td>0.034</td>\n",
       "      <td>0.33</td>\n",
       "      <td>0.99340</td>\n",
       "      <td>7.0</td>\n",
       "      <td>17.0</td>\n",
       "      <td>3.19</td>\n",
       "      <td>4.0</td>\n",
       "      <td>0.39</td>\n",
       "      <td>127.0</td>\n",
       "      <td>0.170</td>\n",
       "    </tr>\n",
       "    <tr>\n",
       "      <th>645</th>\n",
       "      <td>9.3</td>\n",
       "      <td>0.122</td>\n",
       "      <td>0.49</td>\n",
       "      <td>1.00100</td>\n",
       "      <td>8.5</td>\n",
       "      <td>34.0</td>\n",
       "      <td>3.31</td>\n",
       "      <td>6.1</td>\n",
       "      <td>1.14</td>\n",
       "      <td>151.0</td>\n",
       "      <td>0.655</td>\n",
       "    </tr>\n",
       "    <tr>\n",
       "      <th>2862</th>\n",
       "      <td>11.1</td>\n",
       "      <td>0.047</td>\n",
       "      <td>0.35</td>\n",
       "      <td>0.99111</td>\n",
       "      <td>6.8</td>\n",
       "      <td>40.0</td>\n",
       "      <td>3.07</td>\n",
       "      <td>1.5</td>\n",
       "      <td>0.72</td>\n",
       "      <td>117.0</td>\n",
       "      <td>0.140</td>\n",
       "    </tr>\n",
       "  </tbody>\n",
       "</table>\n",
       "</div>"
      ],
      "text/plain": [
       "      features/alcohol  features/chlorides  features/citric acid  \\\n",
       "4454              10.5               0.041                  0.32   \n",
       "1489              10.8               0.077                  0.02   \n",
       "364               10.6               0.034                  0.33   \n",
       "645                9.3               0.122                  0.49   \n",
       "2862              11.1               0.047                  0.35   \n",
       "\n",
       "      features/density  features/fixed acidity  features/free sulfur dioxide  \\\n",
       "4454           0.99173                     6.7                          26.0   \n",
       "1489           0.99557                     7.5                          11.0   \n",
       "364            0.99340                     7.0                          17.0   \n",
       "645            1.00100                     8.5                          34.0   \n",
       "2862           0.99111                     6.8                          40.0   \n",
       "\n",
       "      features/pH  features/residual sugar  features/sulphates  \\\n",
       "4454         2.90                      3.7                0.57   \n",
       "1489         3.36                      2.6                0.62   \n",
       "364          3.19                      4.0                0.39   \n",
       "645          3.31                      6.1                1.14   \n",
       "2862         3.07                      1.5                0.72   \n",
       "\n",
       "      features/total sulfur dioxide  features/volatile acidity  \n",
       "4454                           76.0                      0.190  \n",
       "1489                           35.0                      0.570  \n",
       "364                           127.0                      0.170  \n",
       "645                           151.0                      0.655  \n",
       "2862                          117.0                      0.140  "
      ]
     },
     "execution_count": 216,
     "metadata": {},
     "output_type": "execute_result"
    }
   ],
   "source": [
    "#it's helpful to separate our input features from our target features (quality) \n",
    "#so we can later only transform our inputs without changing our labels\n",
    "labels = df['quality']\n",
    "df = df.drop(labels='quality',axis=1)\n",
    "labels.unique()\n",
    "\n",
    "enc = OneHotEncoder(sparse=False)\n",
    "labels = enc.fit_transform(labels.to_numpy().reshape(-1,1))\n",
    "\n",
    "#make our test data\n",
    "df, df_test, labels, df_testLabels = train_test_split(df,labels,test_size=0.1) # orig. 0.1, tested 0.2, 0.4, 0.5, 0.9\n",
    "\n",
    "#print(len(df_test))\n",
    "\n",
    "#look at the first 5 entries\n",
    "df.head()"
   ]
  },
  {
   "cell_type": "code",
   "execution_count": 217,
   "metadata": {},
   "outputs": [
    {
     "name": "stdout",
     "output_type": "stream",
     "text": [
      "5847 650\n"
     ]
    }
   ],
   "source": [
    "print(len(df), len(df_test))"
   ]
  },
  {
   "cell_type": "markdown",
   "metadata": {},
   "source": [
    "### some questions to consider:\n",
    "- how was this data obtained? what goes into engineering the features? what does \"quality\" mean?\n",
    "- do you have to normalize your features?\n",
    "- are there any correlations among features? is this expected? how can we encode this information to the NN or decouple these features?\n",
    "- what does the data look like?\n",
    "- do we have any missing or NaN entries?"
   ]
  },
  {
   "cell_type": "markdown",
   "metadata": {},
   "source": [
    "let's examine the data to see what kinds of transformations we need to make for preprocessing"
   ]
  },
  {
   "cell_type": "code",
   "execution_count": 218,
   "metadata": {},
   "outputs": [
    {
     "data": {
      "text/html": [
       "<div>\n",
       "<style scoped>\n",
       "    .dataframe tbody tr th:only-of-type {\n",
       "        vertical-align: middle;\n",
       "    }\n",
       "\n",
       "    .dataframe tbody tr th {\n",
       "        vertical-align: top;\n",
       "    }\n",
       "\n",
       "    .dataframe thead th {\n",
       "        text-align: right;\n",
       "    }\n",
       "</style>\n",
       "<table border=\"1\" class=\"dataframe\">\n",
       "  <thead>\n",
       "    <tr style=\"text-align: right;\">\n",
       "      <th></th>\n",
       "      <th>features/alcohol</th>\n",
       "      <th>features/chlorides</th>\n",
       "      <th>features/citric acid</th>\n",
       "      <th>features/density</th>\n",
       "      <th>features/fixed acidity</th>\n",
       "      <th>features/free sulfur dioxide</th>\n",
       "      <th>features/pH</th>\n",
       "      <th>features/residual sugar</th>\n",
       "      <th>features/sulphates</th>\n",
       "      <th>features/total sulfur dioxide</th>\n",
       "      <th>features/volatile acidity</th>\n",
       "    </tr>\n",
       "  </thead>\n",
       "  <tbody>\n",
       "    <tr>\n",
       "      <th>count</th>\n",
       "      <td>5847.000000</td>\n",
       "      <td>5847.000000</td>\n",
       "      <td>5847.000000</td>\n",
       "      <td>5847.000000</td>\n",
       "      <td>5847.000000</td>\n",
       "      <td>5847.000000</td>\n",
       "      <td>5847.000000</td>\n",
       "      <td>5847.000000</td>\n",
       "      <td>5847.000000</td>\n",
       "      <td>5847.000000</td>\n",
       "      <td>5847.000000</td>\n",
       "    </tr>\n",
       "    <tr>\n",
       "      <th>mean</th>\n",
       "      <td>10.500010</td>\n",
       "      <td>0.056041</td>\n",
       "      <td>0.317809</td>\n",
       "      <td>0.994676</td>\n",
       "      <td>7.202061</td>\n",
       "      <td>30.560458</td>\n",
       "      <td>3.218878</td>\n",
       "      <td>5.437925</td>\n",
       "      <td>0.529899</td>\n",
       "      <td>115.806140</td>\n",
       "      <td>0.341387</td>\n",
       "    </tr>\n",
       "    <tr>\n",
       "      <th>std</th>\n",
       "      <td>1.197564</td>\n",
       "      <td>0.035299</td>\n",
       "      <td>0.145922</td>\n",
       "      <td>0.003003</td>\n",
       "      <td>1.293283</td>\n",
       "      <td>17.877424</td>\n",
       "      <td>0.161730</td>\n",
       "      <td>4.765604</td>\n",
       "      <td>0.147169</td>\n",
       "      <td>56.430349</td>\n",
       "      <td>0.165342</td>\n",
       "    </tr>\n",
       "    <tr>\n",
       "      <th>min</th>\n",
       "      <td>8.000000</td>\n",
       "      <td>0.009000</td>\n",
       "      <td>0.000000</td>\n",
       "      <td>0.987130</td>\n",
       "      <td>3.800000</td>\n",
       "      <td>1.000000</td>\n",
       "      <td>2.720000</td>\n",
       "      <td>0.600000</td>\n",
       "      <td>0.220000</td>\n",
       "      <td>6.000000</td>\n",
       "      <td>0.080000</td>\n",
       "    </tr>\n",
       "    <tr>\n",
       "      <th>25%</th>\n",
       "      <td>9.500000</td>\n",
       "      <td>0.038000</td>\n",
       "      <td>0.240000</td>\n",
       "      <td>0.992300</td>\n",
       "      <td>6.400000</td>\n",
       "      <td>17.000000</td>\n",
       "      <td>3.110000</td>\n",
       "      <td>1.800000</td>\n",
       "      <td>0.430000</td>\n",
       "      <td>78.000000</td>\n",
       "      <td>0.230000</td>\n",
       "    </tr>\n",
       "    <tr>\n",
       "      <th>50%</th>\n",
       "      <td>10.300000</td>\n",
       "      <td>0.047000</td>\n",
       "      <td>0.310000</td>\n",
       "      <td>0.994800</td>\n",
       "      <td>7.000000</td>\n",
       "      <td>29.000000</td>\n",
       "      <td>3.210000</td>\n",
       "      <td>3.000000</td>\n",
       "      <td>0.510000</td>\n",
       "      <td>118.000000</td>\n",
       "      <td>0.290000</td>\n",
       "    </tr>\n",
       "    <tr>\n",
       "      <th>75%</th>\n",
       "      <td>11.300000</td>\n",
       "      <td>0.064000</td>\n",
       "      <td>0.390000</td>\n",
       "      <td>0.996935</td>\n",
       "      <td>7.700000</td>\n",
       "      <td>41.000000</td>\n",
       "      <td>3.320000</td>\n",
       "      <td>8.100000</td>\n",
       "      <td>0.600000</td>\n",
       "      <td>155.500000</td>\n",
       "      <td>0.410000</td>\n",
       "    </tr>\n",
       "    <tr>\n",
       "      <th>max</th>\n",
       "      <td>14.900000</td>\n",
       "      <td>0.611000</td>\n",
       "      <td>1.660000</td>\n",
       "      <td>1.038980</td>\n",
       "      <td>15.900000</td>\n",
       "      <td>289.000000</td>\n",
       "      <td>4.010000</td>\n",
       "      <td>65.800003</td>\n",
       "      <td>2.000000</td>\n",
       "      <td>440.000000</td>\n",
       "      <td>1.330000</td>\n",
       "    </tr>\n",
       "  </tbody>\n",
       "</table>\n",
       "</div>"
      ],
      "text/plain": [
       "       features/alcohol  features/chlorides  features/citric acid  \\\n",
       "count       5847.000000         5847.000000           5847.000000   \n",
       "mean          10.500010            0.056041              0.317809   \n",
       "std            1.197564            0.035299              0.145922   \n",
       "min            8.000000            0.009000              0.000000   \n",
       "25%            9.500000            0.038000              0.240000   \n",
       "50%           10.300000            0.047000              0.310000   \n",
       "75%           11.300000            0.064000              0.390000   \n",
       "max           14.900000            0.611000              1.660000   \n",
       "\n",
       "       features/density  features/fixed acidity  features/free sulfur dioxide  \\\n",
       "count       5847.000000             5847.000000                   5847.000000   \n",
       "mean           0.994676                7.202061                     30.560458   \n",
       "std            0.003003                1.293283                     17.877424   \n",
       "min            0.987130                3.800000                      1.000000   \n",
       "25%            0.992300                6.400000                     17.000000   \n",
       "50%            0.994800                7.000000                     29.000000   \n",
       "75%            0.996935                7.700000                     41.000000   \n",
       "max            1.038980               15.900000                    289.000000   \n",
       "\n",
       "       features/pH  features/residual sugar  features/sulphates  \\\n",
       "count  5847.000000              5847.000000         5847.000000   \n",
       "mean      3.218878                 5.437925            0.529899   \n",
       "std       0.161730                 4.765604            0.147169   \n",
       "min       2.720000                 0.600000            0.220000   \n",
       "25%       3.110000                 1.800000            0.430000   \n",
       "50%       3.210000                 3.000000            0.510000   \n",
       "75%       3.320000                 8.100000            0.600000   \n",
       "max       4.010000                65.800003            2.000000   \n",
       "\n",
       "       features/total sulfur dioxide  features/volatile acidity  \n",
       "count                    5847.000000                5847.000000  \n",
       "mean                      115.806140                   0.341387  \n",
       "std                        56.430349                   0.165342  \n",
       "min                         6.000000                   0.080000  \n",
       "25%                        78.000000                   0.230000  \n",
       "50%                       118.000000                   0.290000  \n",
       "75%                       155.500000                   0.410000  \n",
       "max                       440.000000                   1.330000  "
      ]
     },
     "execution_count": 218,
     "metadata": {},
     "output_type": "execute_result"
    }
   ],
   "source": [
    "df.describe()"
   ]
  },
  {
   "cell_type": "markdown",
   "metadata": {},
   "source": [
    "### Visualizing data\n",
    "If you want a cool and easy way to visualize not only the features, but also the correlations between features, you can use the following seaborn function, which will display the individual features on the diagonal of the subplots and the correlations between features\n",
    "\n",
    "`pl = sns.pairplot(df[df.columns], diag_kind='kde')`"
   ]
  },
  {
   "cell_type": "code",
   "execution_count": 219,
   "metadata": {},
   "outputs": [],
   "source": [
    "#pl = sns.pairplot(df[df.columns], diag_kind='kde')"
   ]
  },
  {
   "cell_type": "code",
   "execution_count": 220,
   "metadata": {},
   "outputs": [
    {
     "data": {
      "image/png": "[encoded data removed]",
      "text/plain": [
       "<Figure size 1080x1440 with 12 Axes>"
      ]
     },
     "metadata": {
      "needs_background": "light"
     },
     "output_type": "display_data"
    }
   ],
   "source": [
    "#visualizing our input features\n",
    "nFeatures = len(df.columns)\n",
    "nCols = 3\n",
    "nRows = int(np.ceil(nFeatures/nCols))\n",
    "cols = df.columns\n",
    "fig, axs = plt.subplots(nRows,nCols,figsize=(15,20))\n",
    "# for i, ax in enumerate(axs)\n",
    "col = 0\n",
    "for i in range(nRows):\n",
    "    for j in range(nCols):\n",
    "        if col >= nFeatures:\n",
    "            break\n",
    "        h = axs[i,j].hist(df[cols[col]])\n",
    "        h = axs[i,j].set_title(cols[col])\n",
    "        col += 1"
   ]
  },
  {
   "cell_type": "markdown",
   "metadata": {},
   "source": [
    "It looks like there are two types of sulfur dioxide features: total sulfur dioxide and free sulfur dioxide. I'm not entirely sure what sulfur dioxide is (I am neither a chemist nor a sommelier) so I'm curious if there is a correlation between these features. "
   ]
  },
  {
   "cell_type": "code",
   "execution_count": 221,
   "metadata": {},
   "outputs": [
    {
     "data": {
      "text/plain": [
       "<matplotlib.collections.PathCollection at 0x7f65609cacd0>"
      ]
     },
     "execution_count": 221,
     "metadata": {},
     "output_type": "execute_result"
    },
    {
     "data": {
      "image/png": "[encoded data removed]",
      "text/plain": [
       "<Figure size 432x288 with 1 Axes>"
      ]
     },
     "metadata": {
      "needs_background": "light"
     },
     "output_type": "display_data"
    }
   ],
   "source": [
    "plt.scatter(df['features/free sulfur dioxide'],df['features/total sulfur dioxide'])"
   ]
  },
  {
   "cell_type": "markdown",
   "metadata": {},
   "source": [
    "It looks like there is some correlation between these features. If I had to guess, I would say \"free sulfur dioxide\" is a subset of \"total sulfur dioxide\" but I'm not sure how or even if either of these features would affect the wine quality. This is where domain specific knowledge would be helpful! Since I have a degree in physics and not wine studies (contrary to what my weekend activities may imply) I am going to see what happens when we include both of these features in our network."
   ]
  },
  {
   "cell_type": "markdown",
   "metadata": {},
   "source": [
    "This was just a cursory look at our data. In reality, data scientists will spend most of their time feature engineering, fixing incomplete datasets, cleaning data, etc. Feel free to do more exploratory analysis on the data before you pass it through to a network!"
   ]
  },
  {
   "cell_type": "markdown",
   "metadata": {},
   "source": [
    "## Let's build our network!\n",
    "We want to build a simple DNN to essentially perform a categorization. Let's start with something simple: only a couple hidden layers and a handful of neurons. Of course, in accordance with the Universal Approximation Theorem, any function can be approximated arbitrarily well with an arbitrarily large number of layers (Lu et. al. 2017) or arbitrarily large number of neurons (Cybenko 1989). Does the network perform better or worse with an increase in layers or neurons?"
   ]
  },
  {
   "cell_type": "code",
   "execution_count": 222,
   "metadata": {},
   "outputs": [
    {
     "name": "stdout",
     "output_type": "stream",
     "text": [
      "WARNING:tensorflow:Please add `keras.layers.InputLayer` instead of `keras.Input` to Sequential model. `keras.Input` is intended to be used by Functional model.\n"
     ]
    },
    {
     "name": "stderr",
     "output_type": "stream",
     "text": [
      "WARNING:tensorflow:Please add `keras.layers.InputLayer` instead of `keras.Input` to Sequential model. `keras.Input` is intended to be used by Functional model.\n"
     ]
    },
    {
     "data": {
      "text/plain": [
       "\"\\n\\ninputs = tf.keras.Input(shape=(len(cols),))\\noutputs_L1 = Dense(64, activation='relu')(inputs)\\noutputs_L2 = Dense(64, activation='relu')(outputs_L1)\\noutputs_L3 = Dense(64, activation='relu')(outputs_L2)\\npred = Dense(1)(outputs_L3)\\nmodel = Model(inputs=inputs,outputs=pred)\\n\""
      ]
     },
     "execution_count": 222,
     "metadata": {},
     "output_type": "execute_result"
    },
    {
     "name": "stdout",
     "output_type": "stream",
     "text": [
      "Model: \"sequential_17\"\n",
      "_________________________________________________________________\n",
      "Layer (type)                 Output Shape              Param #   \n",
      "=================================================================\n",
      "dense_66 (Dense)             (None, 64)                768       \n",
      "_________________________________________________________________\n",
      "dense_67 (Dense)             (None, 64)                4160      \n",
      "_________________________________________________________________\n",
      "dense_68 (Dense)             (None, 64)                4160      \n",
      "_________________________________________________________________\n",
      "dense_69 (Dense)             (None, 7)                 455       \n",
      "=================================================================\n",
      "Total params: 9,543\n",
      "Trainable params: 9,543\n",
      "Non-trainable params: 0\n",
      "_________________________________________________________________\n"
     ]
    }
   ],
   "source": [
    "cols = df.columns\n",
    "nClasses = len(labels[0])\n",
    "\n",
    "#using Keras's Sequential model - https://keras.io/api/models/sequential/\n",
    "model = Sequential()\n",
    "#add input layer\n",
    "model.add(Input(shape=(len(cols),))) #the input layer shape should match the number of features we have\n",
    "#add first layer of fully connected neurons\n",
    "model.add(Dense(64,activation='relu'))\n",
    "\n",
    "#add second layer (first hidden layer)\n",
    "model.add(Dense(64,activation='relu'))\n",
    "\n",
    "#and one more because why not\n",
    "model.add(Dense(64,activation='relu'))\n",
    "\n",
    "# three extra layers to overfit the dataset for fun\n",
    "#model.add(Dense(64,activation='relu'))\n",
    "#model.add(Dense(64,activation='relu'))\n",
    "#model.add(Dense(64,activation='relu'))\n",
    "\n",
    "#finally, our output layer should have only one neuron because we are trying to predict only one number\n",
    "#notice how there is a different activation function in this layer\n",
    "#this is because we want our outputs for each class to be a probability\n",
    "model.add(Dense(nClasses,activation='softmax'))\n",
    "\"\"\"\n",
    "\n",
    "inputs = tf.keras.Input(shape=(len(cols),))\n",
    "outputs_L1 = Dense(64, activation='relu')(inputs)\n",
    "outputs_L2 = Dense(64, activation='relu')(outputs_L1)\n",
    "outputs_L3 = Dense(64, activation='relu')(outputs_L2)\n",
    "pred = Dense(1)(outputs_L3)\n",
    "model = Model(inputs=inputs,outputs=pred)\n",
    "\"\"\"\n",
    "\n",
    "#compile our model - set our loss metric (categorical cross entropy) and optimizer (stochastic gradient descent)\n",
    "#how does the model performance change with different optimizers (ie AdaGrad, SGD, etc.)?\n",
    "model.compile(loss='CategoricalCrossentropy',optimizer='Adam',metrics=['accuracy'])\n",
    "\n",
    "#let's see a summary of our model\n",
    "model.summary()"
   ]
  },
  {
   "cell_type": "markdown",
   "metadata": {},
   "source": [
    "As shown above, we have a network with four layers, 128 neurons/layer, for a total of ~50k trainable parameters (remember: parameters are the biases and weights that the network learns). Imagine how many parameters a large, complex network at Google has!"
   ]
  },
  {
   "cell_type": "markdown",
   "metadata": {},
   "source": [
    "### the same model can be built using the generic Model class and slightly different syntax\n",
    "`\n",
    "inputs = tf.keras.Input(shape=(len(cols),))\n",
    "outputs_L1 = Dense(64, activation='relu')(inputs)\n",
    "outputs_L2 = Dense(64, activation='relu')(outputs_L1)\n",
    "outputs_L3 = Dense(64, activation='relu')(outputs_L2)\n",
    "pred = Dense(1)(outputs_L3)\n",
    "model = Model(inputs=inputs,outputs=pred)\n",
    "`"
   ]
  },
  {
   "cell_type": "markdown",
   "metadata": {},
   "source": [
    "### Training our model\n",
    "\n",
    "Let's give our model all the input features (df), the corresponding labels (labels)\n",
    "\n",
    "There is a 20% validation split, which means that 80% of our data will be used to train the model parameters\n",
    "while 20% of it will be saved to \"check\" our answers. This is data that the model has not seen (been trained on) so the performance on the validation data should give us an idea of if the model is over- or underfitting.\n",
    "\n",
    "We will train for 100 epochs, which means that the entire dataset will be passed through the whole network 100 times. Our batch size is 20, meaning that 20 samples at a time are passed to the network before the parameters are updated. The `shuffle` argument ensures that our data is shuffled before the beginning of each epoch to reduce spurious learned correlations. What happens if you let the model run for more epochs?\n"
   ]
  },
  {
   "cell_type": "code",
   "execution_count": 223,
   "metadata": {},
   "outputs": [
    {
     "name": "stdout",
     "output_type": "stream",
     "text": [
      "Epoch 1/100\n",
      "41/41 [==============================] - 0s 4ms/step - loss: 7.3693 - accuracy: 0.2644 - val_loss: 1.4172 - val_accuracy: 0.4274\n",
      "Epoch 2/100\n",
      "41/41 [==============================] - 0s 1ms/step - loss: 1.4177 - accuracy: 0.3900 - val_loss: 1.2683 - val_accuracy: 0.4416\n",
      "Epoch 3/100\n",
      "41/41 [==============================] - 0s 1ms/step - loss: 1.2448 - accuracy: 0.4399 - val_loss: 1.3130 - val_accuracy: 0.3863\n",
      "Epoch 4/100\n",
      "41/41 [==============================] - 0s 1ms/step - loss: 1.2721 - accuracy: 0.4369 - val_loss: 1.2484 - val_accuracy: 0.4598\n",
      "Epoch 5/100\n",
      "41/41 [==============================] - 0s 1ms/step - loss: 1.2459 - accuracy: 0.4404 - val_loss: 1.2977 - val_accuracy: 0.3886\n",
      "Epoch 6/100\n",
      "41/41 [==============================] - 0s 1ms/step - loss: 1.2394 - accuracy: 0.4399 - val_loss: 1.2411 - val_accuracy: 0.4781\n",
      "Epoch 7/100\n",
      "41/41 [==============================] - 0s 1ms/step - loss: 1.2138 - accuracy: 0.4740 - val_loss: 1.2329 - val_accuracy: 0.4496\n",
      "Epoch 8/100\n",
      "41/41 [==============================] - 0s 1ms/step - loss: 1.2095 - accuracy: 0.4508 - val_loss: 1.2161 - val_accuracy: 0.4621\n",
      "Epoch 9/100\n",
      "41/41 [==============================] - 0s 1ms/step - loss: 1.2060 - accuracy: 0.4616 - val_loss: 1.2181 - val_accuracy: 0.4940\n",
      "Epoch 10/100\n",
      "41/41 [==============================] - 0s 1ms/step - loss: 1.1990 - accuracy: 0.4657 - val_loss: 1.2258 - val_accuracy: 0.4490\n",
      "Epoch 11/100\n",
      "41/41 [==============================] - 0s 1ms/step - loss: 1.2177 - accuracy: 0.4464 - val_loss: 1.2480 - val_accuracy: 0.4342\n",
      "Epoch 12/100\n",
      "41/41 [==============================] - 0s 1ms/step - loss: 1.2043 - accuracy: 0.4589 - val_loss: 1.2640 - val_accuracy: 0.4382\n",
      "Epoch 13/100\n",
      "41/41 [==============================] - 0s 1ms/step - loss: 1.2056 - accuracy: 0.4565 - val_loss: 1.2056 - val_accuracy: 0.4752\n",
      "Epoch 14/100\n",
      "41/41 [==============================] - 0s 1ms/step - loss: 1.1968 - accuracy: 0.4573 - val_loss: 1.2153 - val_accuracy: 0.4809\n",
      "Epoch 15/100\n",
      "41/41 [==============================] - 0s 1ms/step - loss: 1.1783 - accuracy: 0.4727 - val_loss: 1.1901 - val_accuracy: 0.4917\n",
      "Epoch 16/100\n",
      "41/41 [==============================] - 0s 1ms/step - loss: 1.2149 - accuracy: 0.4528 - val_loss: 1.1863 - val_accuracy: 0.4923\n",
      "Epoch 17/100\n",
      "41/41 [==============================] - 0s 1ms/step - loss: 1.1667 - accuracy: 0.4804 - val_loss: 1.1781 - val_accuracy: 0.5105\n",
      "Epoch 18/100\n",
      "41/41 [==============================] - 0s 1ms/step - loss: 1.1658 - accuracy: 0.4966 - val_loss: 1.1684 - val_accuracy: 0.5060\n",
      "Epoch 19/100\n",
      "41/41 [==============================] - 0s 1ms/step - loss: 1.1357 - accuracy: 0.4952 - val_loss: 1.1721 - val_accuracy: 0.5020\n",
      "Epoch 20/100\n",
      "41/41 [==============================] - 0s 1ms/step - loss: 1.1312 - accuracy: 0.5025 - val_loss: 1.1657 - val_accuracy: 0.5060\n",
      "Epoch 21/100\n",
      "41/41 [==============================] - 0s 1ms/step - loss: 1.1355 - accuracy: 0.4981 - val_loss: 1.1778 - val_accuracy: 0.4815\n",
      "Epoch 22/100\n",
      "41/41 [==============================] - 0s 1ms/step - loss: 1.1405 - accuracy: 0.4987 - val_loss: 1.1673 - val_accuracy: 0.4855\n",
      "Epoch 23/100\n",
      "41/41 [==============================] - 0s 1ms/step - loss: 1.1431 - accuracy: 0.5043 - val_loss: 1.1723 - val_accuracy: 0.4946\n",
      "Epoch 24/100\n",
      "41/41 [==============================] - 0s 1ms/step - loss: 1.1202 - accuracy: 0.4933 - val_loss: 1.1595 - val_accuracy: 0.5094\n",
      "Epoch 25/100\n",
      "41/41 [==============================] - 0s 1ms/step - loss: 1.1216 - accuracy: 0.5076 - val_loss: 1.1733 - val_accuracy: 0.5043\n",
      "Epoch 26/100\n",
      "41/41 [==============================] - 0s 1ms/step - loss: 1.1205 - accuracy: 0.5158 - val_loss: 1.1549 - val_accuracy: 0.4986\n",
      "Epoch 27/100\n",
      "41/41 [==============================] - 0s 1ms/step - loss: 1.1297 - accuracy: 0.5170 - val_loss: 1.1371 - val_accuracy: 0.5197\n",
      "Epoch 28/100\n",
      "41/41 [==============================] - 0s 1ms/step - loss: 1.1326 - accuracy: 0.5022 - val_loss: 1.1844 - val_accuracy: 0.4758\n",
      "Epoch 29/100\n",
      "41/41 [==============================] - 0s 1ms/step - loss: 1.1347 - accuracy: 0.4963 - val_loss: 1.1459 - val_accuracy: 0.4963\n",
      "Epoch 30/100\n",
      "41/41 [==============================] - 0s 1ms/step - loss: 1.1182 - accuracy: 0.5065 - val_loss: 1.1574 - val_accuracy: 0.4963\n",
      "Epoch 31/100\n",
      "41/41 [==============================] - 0s 1ms/step - loss: 1.1286 - accuracy: 0.5002 - val_loss: 1.1437 - val_accuracy: 0.4969\n",
      "Epoch 32/100\n",
      "41/41 [==============================] - 0s 1ms/step - loss: 1.1164 - accuracy: 0.5052 - val_loss: 1.1430 - val_accuracy: 0.5236\n",
      "Epoch 33/100\n",
      "41/41 [==============================] - 0s 1ms/step - loss: 1.0938 - accuracy: 0.5035 - val_loss: 1.1306 - val_accuracy: 0.5083\n",
      "Epoch 34/100\n",
      "41/41 [==============================] - 0s 1ms/step - loss: 1.0830 - accuracy: 0.5257 - val_loss: 1.1608 - val_accuracy: 0.4997\n",
      "Epoch 35/100\n",
      "41/41 [==============================] - 0s 1ms/step - loss: 1.0805 - accuracy: 0.5209 - val_loss: 1.1372 - val_accuracy: 0.5054\n",
      "Epoch 36/100\n",
      "41/41 [==============================] - 0s 1ms/step - loss: 1.1095 - accuracy: 0.5105 - val_loss: 1.1404 - val_accuracy: 0.5288\n",
      "Epoch 37/100\n",
      "41/41 [==============================] - 0s 1ms/step - loss: 1.1121 - accuracy: 0.5036 - val_loss: 1.1447 - val_accuracy: 0.4997\n",
      "Epoch 38/100\n",
      "41/41 [==============================] - 0s 1ms/step - loss: 1.0695 - accuracy: 0.5189 - val_loss: 1.1224 - val_accuracy: 0.5134\n",
      "Epoch 39/100\n",
      "41/41 [==============================] - 0s 1ms/step - loss: 1.0725 - accuracy: 0.5184 - val_loss: 1.1268 - val_accuracy: 0.5174\n",
      "Epoch 40/100\n",
      "41/41 [==============================] - 0s 1ms/step - loss: 1.0802 - accuracy: 0.5263 - val_loss: 1.1534 - val_accuracy: 0.5014\n",
      "Epoch 41/100\n",
      "41/41 [==============================] - 0s 1ms/step - loss: 1.0643 - accuracy: 0.5105 - val_loss: 1.1448 - val_accuracy: 0.5179\n",
      "Epoch 42/100\n",
      "41/41 [==============================] - 0s 1ms/step - loss: 1.0828 - accuracy: 0.5295 - val_loss: 1.1373 - val_accuracy: 0.5054\n",
      "Epoch 43/100\n",
      "41/41 [==============================] - 0s 1ms/step - loss: 1.0911 - accuracy: 0.5165 - val_loss: 1.1124 - val_accuracy: 0.5231\n",
      "Epoch 44/100\n",
      "41/41 [==============================] - 0s 1ms/step - loss: 1.0636 - accuracy: 0.5206 - val_loss: 1.1386 - val_accuracy: 0.5219\n",
      "Epoch 45/100\n",
      "41/41 [==============================] - 0s 1ms/step - loss: 1.0719 - accuracy: 0.5306 - val_loss: 1.1410 - val_accuracy: 0.5054\n",
      "Epoch 46/100\n",
      "41/41 [==============================] - 0s 1ms/step - loss: 1.0818 - accuracy: 0.5135 - val_loss: 1.1383 - val_accuracy: 0.5145\n",
      "Epoch 47/100\n",
      "41/41 [==============================] - 0s 1ms/step - loss: 1.0970 - accuracy: 0.5243 - val_loss: 1.1515 - val_accuracy: 0.5009\n",
      "Epoch 48/100\n",
      "41/41 [==============================] - 0s 1ms/step - loss: 1.0886 - accuracy: 0.5099 - val_loss: 1.1633 - val_accuracy: 0.5128\n",
      "Epoch 49/100\n",
      "41/41 [==============================] - 0s 1ms/step - loss: 1.0691 - accuracy: 0.5227 - val_loss: 1.1254 - val_accuracy: 0.5048\n",
      "Epoch 50/100\n",
      "41/41 [==============================] - 0s 1ms/step - loss: 1.0449 - accuracy: 0.5425 - val_loss: 1.1309 - val_accuracy: 0.5214\n",
      "Epoch 51/100\n",
      "41/41 [==============================] - 0s 1ms/step - loss: 1.0503 - accuracy: 0.5383 - val_loss: 1.1228 - val_accuracy: 0.5168\n",
      "Epoch 52/100\n",
      "41/41 [==============================] - 0s 1ms/step - loss: 1.0568 - accuracy: 0.5313 - val_loss: 1.1184 - val_accuracy: 0.5236\n",
      "Epoch 53/100\n",
      "41/41 [==============================] - 0s 1ms/step - loss: 1.0662 - accuracy: 0.5248 - val_loss: 1.1357 - val_accuracy: 0.5048\n",
      "Epoch 54/100\n",
      "41/41 [==============================] - 0s 1ms/step - loss: 1.0586 - accuracy: 0.5353 - val_loss: 1.1209 - val_accuracy: 0.5219\n",
      "Epoch 55/100\n",
      "41/41 [==============================] - 0s 1ms/step - loss: 1.0536 - accuracy: 0.5272 - val_loss: 1.1094 - val_accuracy: 0.5179\n",
      "Epoch 56/100\n",
      "41/41 [==============================] - 0s 1ms/step - loss: 1.0585 - accuracy: 0.5362 - val_loss: 1.1252 - val_accuracy: 0.5100\n",
      "Epoch 57/100\n",
      "41/41 [==============================] - 0s 1ms/step - loss: 1.0536 - accuracy: 0.5327 - val_loss: 1.1200 - val_accuracy: 0.5185\n",
      "Epoch 58/100\n",
      "41/41 [==============================] - 0s 1ms/step - loss: 1.0535 - accuracy: 0.5382 - val_loss: 1.1464 - val_accuracy: 0.5009\n"
     ]
    },
    {
     "name": "stdout",
     "output_type": "stream",
     "text": [
      "Epoch 59/100\n",
      "41/41 [==============================] - 0s 1ms/step - loss: 1.0509 - accuracy: 0.5453 - val_loss: 1.1108 - val_accuracy: 0.5271\n",
      "Epoch 60/100\n",
      "41/41 [==============================] - 0s 1ms/step - loss: 1.0398 - accuracy: 0.5388 - val_loss: 1.1174 - val_accuracy: 0.5254\n",
      "Epoch 61/100\n",
      "41/41 [==============================] - 0s 1ms/step - loss: 1.0567 - accuracy: 0.5385 - val_loss: 1.1812 - val_accuracy: 0.5054\n",
      "Epoch 62/100\n",
      "41/41 [==============================] - 0s 1ms/step - loss: 1.0841 - accuracy: 0.5213 - val_loss: 1.1131 - val_accuracy: 0.5271\n",
      "Epoch 63/100\n",
      "41/41 [==============================] - 0s 1ms/step - loss: 1.0362 - accuracy: 0.5474 - val_loss: 1.1332 - val_accuracy: 0.5083\n",
      "Epoch 64/100\n",
      "41/41 [==============================] - 0s 1ms/step - loss: 1.0783 - accuracy: 0.5242 - val_loss: 1.1577 - val_accuracy: 0.5031\n",
      "Epoch 65/100\n",
      "41/41 [==============================] - 0s 1ms/step - loss: 1.0649 - accuracy: 0.5177 - val_loss: 1.1317 - val_accuracy: 0.5020\n",
      "Epoch 66/100\n",
      "41/41 [==============================] - 0s 1ms/step - loss: 1.0519 - accuracy: 0.5413 - val_loss: 1.1233 - val_accuracy: 0.5151\n",
      "Epoch 67/100\n",
      "41/41 [==============================] - 0s 1ms/step - loss: 1.0549 - accuracy: 0.5394 - val_loss: 1.1147 - val_accuracy: 0.5339\n",
      "Epoch 68/100\n",
      "41/41 [==============================] - 0s 1ms/step - loss: 1.0467 - accuracy: 0.5381 - val_loss: 1.1891 - val_accuracy: 0.4701\n",
      "Epoch 69/100\n",
      "41/41 [==============================] - 0s 1ms/step - loss: 1.0868 - accuracy: 0.5188 - val_loss: 1.1192 - val_accuracy: 0.5356\n",
      "Epoch 70/100\n",
      "41/41 [==============================] - 0s 1ms/step - loss: 1.0493 - accuracy: 0.5285 - val_loss: 1.1294 - val_accuracy: 0.5185\n",
      "Epoch 71/100\n",
      "41/41 [==============================] - 0s 1ms/step - loss: 1.0327 - accuracy: 0.5411 - val_loss: 1.1165 - val_accuracy: 0.5179\n",
      "Epoch 72/100\n",
      "41/41 [==============================] - 0s 1ms/step - loss: 1.0906 - accuracy: 0.5049 - val_loss: 1.1554 - val_accuracy: 0.4986\n",
      "Epoch 73/100\n",
      "41/41 [==============================] - 0s 1ms/step - loss: 1.0530 - accuracy: 0.5318 - val_loss: 1.1118 - val_accuracy: 0.5117\n",
      "Epoch 74/100\n",
      "41/41 [==============================] - 0s 1ms/step - loss: 1.0497 - accuracy: 0.5256 - val_loss: 1.1416 - val_accuracy: 0.5026\n",
      "Epoch 75/100\n",
      "41/41 [==============================] - 0s 1ms/step - loss: 1.0577 - accuracy: 0.5277 - val_loss: 1.1719 - val_accuracy: 0.4883\n",
      "Epoch 76/100\n",
      "41/41 [==============================] - 0s 1ms/step - loss: 1.0312 - accuracy: 0.5333 - val_loss: 1.1191 - val_accuracy: 0.5145\n",
      "Epoch 77/100\n",
      "41/41 [==============================] - 0s 1ms/step - loss: 1.0315 - accuracy: 0.5543 - val_loss: 1.1212 - val_accuracy: 0.5140\n",
      "Epoch 78/100\n",
      "41/41 [==============================] - 0s 1ms/step - loss: 1.0213 - accuracy: 0.5440 - val_loss: 1.1276 - val_accuracy: 0.5179\n",
      "Epoch 79/100\n",
      "41/41 [==============================] - 0s 1ms/step - loss: 1.0277 - accuracy: 0.5459 - val_loss: 1.1335 - val_accuracy: 0.5265\n",
      "Epoch 80/100\n",
      "41/41 [==============================] - 0s 1ms/step - loss: 1.0471 - accuracy: 0.5365 - val_loss: 1.1190 - val_accuracy: 0.5105\n",
      "Epoch 81/100\n",
      "41/41 [==============================] - 0s 1ms/step - loss: 1.0305 - accuracy: 0.5474 - val_loss: 1.1429 - val_accuracy: 0.5316\n",
      "Epoch 82/100\n",
      "41/41 [==============================] - 0s 1ms/step - loss: 1.0358 - accuracy: 0.5422 - val_loss: 1.1148 - val_accuracy: 0.5231\n",
      "Epoch 83/100\n",
      "41/41 [==============================] - 0s 1ms/step - loss: 1.0297 - accuracy: 0.5532 - val_loss: 1.1436 - val_accuracy: 0.5128\n",
      "Epoch 84/100\n",
      "41/41 [==============================] - 0s 1ms/step - loss: 1.0307 - accuracy: 0.5427 - val_loss: 1.1240 - val_accuracy: 0.5282\n",
      "Epoch 85/100\n",
      "41/41 [==============================] - 0s 1ms/step - loss: 1.0396 - accuracy: 0.5412 - val_loss: 1.1119 - val_accuracy: 0.5316\n",
      "Epoch 86/100\n",
      "41/41 [==============================] - 0s 1ms/step - loss: 1.0261 - accuracy: 0.5521 - val_loss: 1.1195 - val_accuracy: 0.5259\n",
      "Epoch 87/100\n",
      "41/41 [==============================] - 0s 1ms/step - loss: 1.0263 - accuracy: 0.5471 - val_loss: 1.1756 - val_accuracy: 0.4889\n",
      "Epoch 88/100\n",
      "41/41 [==============================] - 0s 1ms/step - loss: 1.0412 - accuracy: 0.5384 - val_loss: 1.1187 - val_accuracy: 0.5254\n",
      "Epoch 89/100\n",
      "41/41 [==============================] - 0s 1ms/step - loss: 1.0275 - accuracy: 0.5469 - val_loss: 1.1156 - val_accuracy: 0.5248\n",
      "Epoch 90/100\n",
      "41/41 [==============================] - 0s 1ms/step - loss: 1.0305 - accuracy: 0.5576 - val_loss: 1.1239 - val_accuracy: 0.5197\n",
      "Epoch 91/100\n",
      "41/41 [==============================] - 0s 1ms/step - loss: 1.0262 - accuracy: 0.5540 - val_loss: 1.1664 - val_accuracy: 0.4957\n",
      "Epoch 92/100\n",
      "41/41 [==============================] - 0s 1ms/step - loss: 1.0323 - accuracy: 0.5474 - val_loss: 1.1206 - val_accuracy: 0.5202\n",
      "Epoch 93/100\n",
      "41/41 [==============================] - 0s 1ms/step - loss: 1.0417 - accuracy: 0.5514 - val_loss: 1.1464 - val_accuracy: 0.5254\n",
      "Epoch 94/100\n",
      "41/41 [==============================] - 0s 1ms/step - loss: 1.0372 - accuracy: 0.5339 - val_loss: 1.1427 - val_accuracy: 0.5105\n",
      "Epoch 95/100\n",
      "41/41 [==============================] - 0s 1ms/step - loss: 1.0511 - accuracy: 0.5390 - val_loss: 1.1282 - val_accuracy: 0.5174\n",
      "Epoch 96/100\n",
      "41/41 [==============================] - 0s 1ms/step - loss: 1.0154 - accuracy: 0.5464 - val_loss: 1.1195 - val_accuracy: 0.5311\n",
      "Epoch 97/100\n",
      "41/41 [==============================] - 0s 1ms/step - loss: 1.0286 - accuracy: 0.5557 - val_loss: 1.1168 - val_accuracy: 0.5282\n",
      "Epoch 98/100\n",
      "41/41 [==============================] - 0s 1ms/step - loss: 1.0249 - accuracy: 0.5504 - val_loss: 1.1313 - val_accuracy: 0.5083\n",
      "Epoch 99/100\n",
      "41/41 [==============================] - 0s 1ms/step - loss: 1.0318 - accuracy: 0.5480 - val_loss: 1.1319 - val_accuracy: 0.5242\n",
      "Epoch 100/100\n",
      "41/41 [==============================] - 0s 1ms/step - loss: 1.0383 - accuracy: 0.5276 - val_loss: 1.1294 - val_accuracy: 0.5179\n"
     ]
    }
   ],
   "source": [
    "history = model.fit(\n",
    "    df, labels,\n",
    "    validation_split=0.3,\n",
    "    verbose=1, epochs=100, batch_size=100, shuffle=True)"
   ]
  },
  {
   "cell_type": "markdown",
   "metadata": {},
   "source": [
    "Let's define a function to visualize our loss"
   ]
  },
  {
   "cell_type": "code",
   "execution_count": 224,
   "metadata": {},
   "outputs": [
    {
     "data": {
      "image/png": "[encoded data removed]",
      "text/plain": [
       "<Figure size 432x288 with 1 Axes>"
      ]
     },
     "metadata": {
      "needs_background": "light"
     },
     "output_type": "display_data"
    }
   ],
   "source": [
    "def show_loss(history):\n",
    "    plt.figure()\n",
    "    plt.plot(history.history['val_loss'], label=\"val loss\")\n",
    "    plt.plot(history.history['loss'],label=\"train loss\")\n",
    "    plt.xlabel(\"Epoch\")\n",
    "    plt.ylabel(\"Loss\")\n",
    "    plt.legend()\n",
    "show_loss(history)"
   ]
  },
  {
   "cell_type": "markdown",
   "metadata": {},
   "source": [
    "It looks like our training loss is more or less monotonically minimized with each epoch (with some fluctuations) while the validation loss seems to be on average higher. The validation loss spikes more severely than the training loss, which is probably due to limited statistics (we only had ~6k samples and took onlt 20% of them for validation - it usually takes LOTS of data to train neural networks well!). The trend discrepancy between training and validation losses could indicate some overfitting in our model. What happens if you increase the percentage of data used for validation? Since it's pretty apparent we're overfitting to our training data, we could introduce some sort of regularization techniques, like L2 regularization (that penalizes large weights) or dropout (that randomly drops neurons in a layer with a set probability). What happens if you introduce some of these methods?"
   ]
  },
  {
   "cell_type": "markdown",
   "metadata": {},
   "source": [
    "### Remember that test data we set aside at the beginning?\n",
    "Now it's time to use it to evaluate our model performance!"
   ]
  },
  {
   "cell_type": "code",
   "execution_count": 225,
   "metadata": {
    "scrolled": true
   },
   "outputs": [
    {
     "name": "stdout",
     "output_type": "stream",
     "text": [
      "21/21 [==============================] - 0s 620us/step - loss: 1.0788 - accuracy: 0.5415\n",
      "Accuracy for test data is 0.5415384769439697\n"
     ]
    }
   ],
   "source": [
    "_, acc = model.evaluate(df_test, df_testLabels, verbose=1)\n",
    "print('Accuracy for test data is',acc)"
   ]
  },
  {
   "cell_type": "markdown",
   "metadata": {},
   "source": [
    "To plot our results, I just chose the highest probability of the classes and assigned the prediction to a class based on that rounding (highest probability gets a 1, every other class gets a 0). Then, I one-hot decoded the rounded array to get a single number for the class. "
   ]
  },
  {
   "cell_type": "code",
   "execution_count": 226,
   "metadata": {},
   "outputs": [
    {
     "data": {
      "image/png": "[encoded data removed]",
      "text/plain": [
       "<Figure size 432x288 with 2 Axes>"
      ]
     },
     "metadata": {
      "needs_background": "light"
     },
     "output_type": "display_data"
    }
   ],
   "source": [
    "preds = model.predict(df_test)\n",
    "#preds = [i.round() for i in preds]\n",
    "preds = tf.one_hot(tf.math.argmax(preds, axis = 1),depth = len(preds[0]))\n",
    "\n",
    "preds = enc.inverse_transform(preds)\n",
    "testLabels = enc.inverse_transform(df_testLabels)\n",
    "cm = confusion_matrix(testLabels, preds)\n",
    "\n",
    "_ =plt.imshow(cm, cmap=plt.cm.Blues)\n",
    "_ = plt.xlabel(\"Predicted labels\")\n",
    "_ = plt.ylabel(\"True labels\")\n",
    "\n",
    "_ =plt.xticks(np.arange(0,len(np.unique(testLabels)),1),np.unique(testLabels))\n",
    "_ =plt.yticks(np.arange(0,len(np.unique(testLabels)),1),np.unique(testLabels))\n",
    "_ =plt.title('Confusion matrix ')\n",
    "_ =plt.colorbar()\n",
    "plt.show()"
   ]
  },
  {
   "cell_type": "markdown",
   "metadata": {},
   "source": [
    "It looks like our network is only predicting *some* of our classes. Maybe that's because really good wine (rated 8 and 9) is pretty rare? Let's check it out."
   ]
  },
  {
   "cell_type": "code",
   "execution_count": 227,
   "metadata": {},
   "outputs": [
    {
     "data": {
      "image/png": "[encoded data removed]",
      "text/plain": [
       "<Figure size 432x288 with 1 Axes>"
      ]
     },
     "metadata": {
      "needs_background": "light"
     },
     "output_type": "display_data"
    }
   ],
   "source": [
    "_=plt.hist(enc.inverse_transform(labels),label='training labels', alpha=0.5)\n",
    "_=plt.hist(testLabels,label='test labels', alpha=0.5)\n",
    "_=plt.yscale('log')\n",
    "_=plt.legend()"
   ]
  },
  {
   "cell_type": "markdown",
   "metadata": {},
   "source": [
    "Yep! Mostly 5s, 6s, and 7s. Only a handful of really good wines (8s and 9s) and really bad wines (3s and 4s). In fact, no scores below a 3! But no perfect 10s either. Overall, I would say that the dataset is imbalanced (mostly ok wines, some bad and some good - a pretty Gaussian distribution) and could benefit from data augmentation techniques like bootstrapping! Maybe you could even generate some more data from randomly sampling a known distribution...But if you train your model on mostly ok wines, then it learns the characteristics of those wines really well. So, when it's faced with a good or bad wine, it's not as sure how to classify it. You can see if this is happening by looking at the network output, which are the probabilities for each class (ie how sure the network is this sample belongs to a certain class)."
   ]
  },
  {
   "cell_type": "markdown",
   "metadata": {},
   "source": [
    "### Overall, \n",
    "our network performs ok with a training, validation, and test accuracy all around 50-60%. What could you change about the network or inputs? How do you think that would affect the model's predictions?"
   ]
  },
  {
   "cell_type": "markdown",
   "metadata": {},
   "source": [
    "### Making Changes\n",
    "Some changes to make: \n",
    "- Test/train fraction of initial dataset. Currently 90% train, 10% test. If we decrease the train fraction, we may get worse performance on our categorization of our test data.\n",
    "    - Results: The performance of the model didn't actually seem to change that much decreasing the train/test fraction down to 50/50. However, as expected, the histograms of test/training labels ended up basically perfectly overlapping because the number of samples ended up the same. If the fraction goes to 90% test, 10% train, we start to see worse performance, with ~45% accuracy vs ~51% accuracy in the 90% train, 10% test case, and the wine scores are skewed worse by about a point.\n",
    "    \n",
    "    \n",
    "- Number of Layers: Adding 3 extra hidden layers: should more severely overfit our dataset.\n",
    "    - Validation loss pretty clearly diverges from training loss around epoch 15, and actually increases until epoch 100.\n",
    "    \n",
    "\n",
    "- Validation split: \n",
    "    - Changing the validation split to larger and larger values tends to make the model overfit more and more, as evidenced by the quick divergence of the training and validation losses. As the model just continues to fit the same dataset, though, the performance doesn't change that much.\n",
    "    \n",
    "\n",
    "- \\# Epochs: More epochs should overfit the data more, fewer should underfit (or more appropriately fit?)\n",
    "    - 200 epochs definitely overfits the data. 50 epochs seems like it doesn't overfit the data, but given the (small) test dataset it seems sort of hard to tell whether this gives some qualitatively different fit. It gives ~50% accuracy though.\n",
    "    \n",
    "\n",
    "- Batch size: smaller batch sizes should take longer, should be less accurate\n",
    "    - batch size of 10 definitely takes longer, but is not clear that the fitting accuracy is any worse than keeping the batch size at 100"
   ]
  },
  {
   "cell_type": "code",
   "execution_count": null,
   "metadata": {},
   "outputs": [],
   "source": []
  }
 ],
 "metadata": {
  "kernelspec": {
   "display_name": "Python 3",
   "language": "python",
   "name": "python3"
  },
  "language_info": {
   "codemirror_mode": {
    "name": "ipython",
    "version": 3
   },
   "file_extension": ".py",
   "mimetype": "text/x-python",
   "name": "python",
   "nbconvert_exporter": "python",
   "pygments_lexer": "ipython3",
   "version": "3.9.2"
  }
 },
 "nbformat": 4,
 "nbformat_minor": 2
}
